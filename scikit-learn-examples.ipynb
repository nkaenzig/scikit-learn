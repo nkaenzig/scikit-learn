{
 "cells": [
  {
   "cell_type": "markdown",
   "metadata": {},
   "source": [
    " # scikit-learn - examples\n"
   ]
  },
  {
   "cell_type": "code",
   "execution_count": 15,
   "metadata": {},
   "outputs": [],
   "source": [
    "import pandas as pd\n",
    "from pathlib import Path\n",
    "\n",
    "pd.set_option('display.max_rows', 100)\n",
    "pd.set_option('display.max_columns', None)"
   ]
  },
  {
   "cell_type": "markdown",
   "metadata": {},
   "source": [
    "## Load sample datasets"
   ]
  },
  {
   "cell_type": "code",
   "execution_count": 46,
   "metadata": {},
   "outputs": [],
   "source": [
    "data_dir = Path('data')\n",
    "\n",
    "df_clf = pd.read_csv(Path(data_dir, 'adult-incomes.csv'))\n",
    "df_clf_numeric = pd.read_csv(Path(data_dir, 'breast-cancer.csv')).drop('id', axis=1)\n",
    "df_regression = pd.read_csv(Path(data_dir, 'house_prices.csv')).drop('Id', axis=1)\n",
    "df_nlp = pd.read_csv(Path(data_dir, 'airline-tweets.csv'))"
   ]
  },
  {
   "cell_type": "markdown",
   "metadata": {},
   "source": [
    "## Models"
   ]
  },
  {
   "cell_type": "markdown",
   "metadata": {},
   "source": [
    "### Classifiers"
   ]
  },
  {
   "cell_type": "code",
   "execution_count": 9,
   "metadata": {},
   "outputs": [],
   "source": [
    "from sklearn.ensemble import RandomForestClassifier\n",
    "\n",
    "model_rf = RandomForestClassifier(n_estimators=200, random_state=0, n_jobs=4)"
   ]
  },
  {
   "cell_type": "code",
   "execution_count": null,
   "metadata": {},
   "outputs": [],
   "source": [
    "import xgboost as xgb\n",
    "\n",
    "model_xgb = xgb.XGBClassifier(n_estimators=200, random_state=0, n_jobs=4)"
   ]
  },
  {
   "cell_type": "markdown",
   "metadata": {},
   "source": [
    "### Regressors"
   ]
  },
  {
   "cell_type": "code",
   "execution_count": 77,
   "metadata": {},
   "outputs": [],
   "source": [
    "from sklearn.ensemble import RandomForestRegressor\n",
    "\n",
    "model_rf = RandomForestRegressor(n_estimators=200, random_state=0, n_jobs=4)"
   ]
  },
  {
   "cell_type": "code",
   "execution_count": 78,
   "metadata": {},
   "outputs": [],
   "source": [
    "import xgboost as xgb\n",
    "\n",
    "model_xgb = xgb.XGBRegressor(n_estimators=200, random_state=0, n_jobs=4)"
   ]
  },
  {
   "cell_type": "markdown",
   "metadata": {},
   "source": [
    "## Preprocessing"
   ]
  },
  {
   "cell_type": "markdown",
   "metadata": {},
   "source": [
    "### Train/Test split"
   ]
  },
  {
   "cell_type": "code",
   "execution_count": 38,
   "metadata": {},
   "outputs": [],
   "source": [
    "from sklearn.model_selection import train_test_split\n",
    "\n",
    "def df_train_test_split(df, label_column, test_size):\n",
    "    features = df.drop(label_column, axis=1)\n",
    "    labels = df[label_column]\n",
    "    x_train, x_test, y_train, y_test = train_test_split(features, labels, test_size=0.2, random_state=30, shuffle=True)\n",
    "    \n",
    "    return x_train, x_test, y_train, y_test"
   ]
  },
  {
   "cell_type": "code",
   "execution_count": 40,
   "metadata": {},
   "outputs": [],
   "source": [
    "x_train, x_test, y_train, y_test = df_train_test_split(df_clf_numeric, 'diagnosis', 0.2)"
   ]
  },
  {
   "cell_type": "markdown",
   "metadata": {},
   "source": [
    "## Pipelines"
   ]
  },
  {
   "cell_type": "markdown",
   "metadata": {},
   "source": [
    "### Standardization"
   ]
  },
  {
   "cell_type": "code",
   "execution_count": 64,
   "metadata": {},
   "outputs": [],
   "source": [
    "from sklearn.preprocessing import StandardScaler\n",
    "from sklearn.ensemble import RandomForestClassifier\n",
    "from sklearn.pipeline import Pipeline\n",
    "\n",
    "steps = [('scaler', StandardScaler()), ('model', RandomForestClassifier())] \n",
    "\n",
    "pipeline = Pipeline(steps)\n",
    "pipeline = pipeline.fit(x_train, y_train)\n",
    "\n",
    "# | applies same standardization to test set!\n",
    "y_pred = pipeline.predict(x_test)"
   ]
  },
  {
   "cell_type": "markdown",
   "metadata": {},
   "source": [
    "### Seperate pipelines for numerical & categorical features"
   ]
  },
  {
   "cell_type": "code",
   "execution_count": 97,
   "metadata": {},
   "outputs": [],
   "source": [
    "from sklearn.preprocessing import StandardScaler\n",
    "from sklearn.impute import SimpleImputer\n",
    "from sklearn.preprocessing import OneHotEncoder\n",
    "from sklearn.compose import ColumnTransformer\n",
    "from sklearn.ensemble import RandomForestRegressor\n",
    "from sklearn.preprocessing import OrdinalEncoder\n",
    "\n",
    "\n",
    "ONE_HOT = True\n",
    "\n",
    "numeric_transformer = Pipeline(steps=[\n",
    "    ('imputer', SimpleImputer(strategy='median')),\n",
    "    ('scaler', StandardScaler())])\n",
    "\n",
    "if ONE_HOT:\n",
    "    categorical_transformer = Pipeline(steps=[\n",
    "        ('imputer', SimpleImputer(strategy='constant', fill_value='missing')),\n",
    "        ('encoder', OneHotEncoder(handle_unknown='ignore'))])\n",
    "\n",
    "# | Note: in the following example this will lead o an error, as not all categories from train-set occur in test-set\n",
    "# | We don't have this issue with OneHotEncoder due to the handle_unknown argument\n",
    "else:\n",
    "    categorical_transformer = Pipeline(steps=[\n",
    "        ('imputer', SimpleImputer(strategy='constant', fill_value='missing')),\n",
    "        ('encoder', OrdinalEncoder())])"
   ]
  },
  {
   "cell_type": "code",
   "execution_count": 98,
   "metadata": {},
   "outputs": [],
   "source": [
    "label_column = 'SalePrice'\n",
    "\n",
    "numeric_features = df_regression.select_dtypes(exclude=['object']).drop([label_column], axis=1).columns\n",
    "categorical_features = df_regression.select_dtypes(include=['object']).columns"
   ]
  },
  {
   "cell_type": "code",
   "execution_count": 99,
   "metadata": {},
   "outputs": [],
   "source": [
    "preprocessor = ColumnTransformer(\n",
    "    transformers=[\n",
    "        ('num', numeric_transformer, numeric_features),\n",
    "        ('cat', categorical_transformer, categorical_features)])"
   ]
  },
  {
   "cell_type": "code",
   "execution_count": 100,
   "metadata": {},
   "outputs": [],
   "source": [
    "steps = [('preprocessor', preprocessor), ('classifier', RandomForestRegressor())]\n",
    "pipeline = Pipeline(steps)\n",
    "\n",
    "x_train, x_test, y_train, y_test = df_train_test_split(df_regression, label_column, 0.2)\n",
    "pipeline = pipeline.fit(x_train, y_train)\n",
    "\n",
    "# | applies same preprocessing to test set!\n",
    "y_pred = pipeline.predict(x_test)"
   ]
  },
  {
   "cell_type": "markdown",
   "metadata": {},
   "source": [
    "Can also apply cross validation with pipelines!"
   ]
  },
  {
   "cell_type": "code",
   "execution_count": 101,
   "metadata": {},
   "outputs": [
    {
     "data": {
      "text/plain": [
       "array([0.88161536, 0.85152753, 0.78832593])"
      ]
     },
     "execution_count": 101,
     "metadata": {},
     "output_type": "execute_result"
    }
   ],
   "source": [
    "cv = cross_val_score(pipeline, x_train, y_train, cv=3, scoring='r2')\n",
    "cv"
   ]
  },
  {
   "cell_type": "markdown",
   "metadata": {},
   "source": [
    "## Cross-Validation"
   ]
  },
  {
   "cell_type": "markdown",
   "metadata": {},
   "source": [
    "### Using functions provided by scikit-learn\n",
    "List of available metrics: https://scikit-learn.org/stable/modules/model_evaluation.html#common-cases-predefined-values"
   ]
  },
  {
   "cell_type": "code",
   "execution_count": 123,
   "metadata": {},
   "outputs": [],
   "source": [
    "from sklearn.ensemble import RandomForestClassifier\n",
    "\n",
    "model = RandomForestClassifier(n_estimators=200, random_state=0, n_jobs=4)"
   ]
  },
  {
   "cell_type": "code",
   "execution_count": 125,
   "metadata": {},
   "outputs": [],
   "source": [
    "lable_column = 'diagnosis'\n",
    "x = df_clf_numeric.drop(lable_column, axis=1)\n",
    "y = df_clf_numeric[lable_column]"
   ]
  },
  {
   "cell_type": "markdown",
   "metadata": {},
   "source": [
    "<code>cross_val_score</code>"
   ]
  },
  {
   "cell_type": "code",
   "execution_count": 126,
   "metadata": {},
   "outputs": [
    {
     "data": {
      "text/plain": [
       "array([0.92982456, 0.94736842, 0.98245614, 0.96491228, 0.97345133])"
      ]
     },
     "execution_count": 126,
     "metadata": {},
     "output_type": "execute_result"
    }
   ],
   "source": [
    "from sklearn.model_selection import cross_val_score\n",
    "\n",
    "cv = cross_val_score(model, x, y, cv=5, scoring='accuracy')\n",
    "cv"
   ]
  },
  {
   "cell_type": "markdown",
   "metadata": {},
   "source": [
    "<code>cross_validate</code>\n",
    "The main advantage of this function in comparison to cross_val_score is that you can pass a list of multiple evaluation metrics "
   ]
  },
  {
   "cell_type": "code",
   "execution_count": 127,
   "metadata": {},
   "outputs": [
    {
     "data": {
      "text/html": [
       "<div>\n",
       "<style scoped>\n",
       "    .dataframe tbody tr th:only-of-type {\n",
       "        vertical-align: middle;\n",
       "    }\n",
       "\n",
       "    .dataframe tbody tr th {\n",
       "        vertical-align: top;\n",
       "    }\n",
       "\n",
       "    .dataframe thead th {\n",
       "        text-align: right;\n",
       "    }\n",
       "</style>\n",
       "<table border=\"1\" class=\"dataframe\">\n",
       "  <thead>\n",
       "    <tr style=\"text-align: right;\">\n",
       "      <th></th>\n",
       "      <th>fit_time</th>\n",
       "      <th>score_time</th>\n",
       "      <th>test_accuracy</th>\n",
       "      <th>test_precision</th>\n",
       "      <th>test_recall</th>\n",
       "    </tr>\n",
       "  </thead>\n",
       "  <tbody>\n",
       "    <tr>\n",
       "      <th>0</th>\n",
       "      <td>0.196992</td>\n",
       "      <td>0.037998</td>\n",
       "      <td>0.929825</td>\n",
       "      <td>0.906977</td>\n",
       "      <td>0.906977</td>\n",
       "    </tr>\n",
       "    <tr>\n",
       "      <th>1</th>\n",
       "      <td>0.178002</td>\n",
       "      <td>0.035998</td>\n",
       "      <td>0.947368</td>\n",
       "      <td>0.974359</td>\n",
       "      <td>0.883721</td>\n",
       "    </tr>\n",
       "    <tr>\n",
       "      <th>2</th>\n",
       "      <td>0.175002</td>\n",
       "      <td>0.037998</td>\n",
       "      <td>0.982456</td>\n",
       "      <td>0.976190</td>\n",
       "      <td>0.976190</td>\n",
       "    </tr>\n",
       "    <tr>\n",
       "      <th>3</th>\n",
       "      <td>0.192003</td>\n",
       "      <td>0.037998</td>\n",
       "      <td>0.964912</td>\n",
       "      <td>0.975000</td>\n",
       "      <td>0.928571</td>\n",
       "    </tr>\n",
       "    <tr>\n",
       "      <th>4</th>\n",
       "      <td>0.179001</td>\n",
       "      <td>0.035998</td>\n",
       "      <td>0.973451</td>\n",
       "      <td>0.953488</td>\n",
       "      <td>0.976190</td>\n",
       "    </tr>\n",
       "  </tbody>\n",
       "</table>\n",
       "</div>"
      ],
      "text/plain": [
       "   fit_time  score_time  test_accuracy  test_precision  test_recall\n",
       "0  0.196992    0.037998       0.929825        0.906977     0.906977\n",
       "1  0.178002    0.035998       0.947368        0.974359     0.883721\n",
       "2  0.175002    0.037998       0.982456        0.976190     0.976190\n",
       "3  0.192003    0.037998       0.964912        0.975000     0.928571\n",
       "4  0.179001    0.035998       0.973451        0.953488     0.976190"
      ]
     },
     "execution_count": 127,
     "metadata": {},
     "output_type": "execute_result"
    }
   ],
   "source": [
    "from sklearn.model_selection import cross_validate\n",
    "\n",
    "cv = cross_validate(model, x, y.replace({'B': 0, 'M': 1}), cv=5, scoring=['accuracy', 'precision', 'recall'])\n",
    "\n",
    "pd.DataFrame(cv)"
   ]
  },
  {
   "cell_type": "markdown",
   "metadata": {},
   "source": [
    "### Manual Implementation"
   ]
  },
  {
   "cell_type": "code",
   "execution_count": 139,
   "metadata": {},
   "outputs": [
    {
     "data": {
      "text/html": [
       "<div>\n",
       "<style scoped>\n",
       "    .dataframe tbody tr th:only-of-type {\n",
       "        vertical-align: middle;\n",
       "    }\n",
       "\n",
       "    .dataframe tbody tr th {\n",
       "        vertical-align: top;\n",
       "    }\n",
       "\n",
       "    .dataframe thead th {\n",
       "        text-align: right;\n",
       "    }\n",
       "</style>\n",
       "<table border=\"1\" class=\"dataframe\">\n",
       "  <thead>\n",
       "    <tr style=\"text-align: right;\">\n",
       "      <th></th>\n",
       "      <th>accuracy</th>\n",
       "      <th>precision</th>\n",
       "      <th>recall</th>\n",
       "    </tr>\n",
       "  </thead>\n",
       "  <tbody>\n",
       "    <tr>\n",
       "      <th>0</th>\n",
       "      <td>0.912281</td>\n",
       "      <td>0.983333</td>\n",
       "      <td>0.867647</td>\n",
       "    </tr>\n",
       "    <tr>\n",
       "      <th>1</th>\n",
       "      <td>0.947368</td>\n",
       "      <td>0.957447</td>\n",
       "      <td>0.918367</td>\n",
       "    </tr>\n",
       "    <tr>\n",
       "      <th>2</th>\n",
       "      <td>0.982456</td>\n",
       "      <td>1.000000</td>\n",
       "      <td>0.950000</td>\n",
       "    </tr>\n",
       "    <tr>\n",
       "      <th>3</th>\n",
       "      <td>0.956140</td>\n",
       "      <td>0.900000</td>\n",
       "      <td>0.931034</td>\n",
       "    </tr>\n",
       "    <tr>\n",
       "      <th>4</th>\n",
       "      <td>0.973451</td>\n",
       "      <td>0.896552</td>\n",
       "      <td>1.000000</td>\n",
       "    </tr>\n",
       "  </tbody>\n",
       "</table>\n",
       "</div>"
      ],
      "text/plain": [
       "   accuracy  precision    recall\n",
       "0  0.912281   0.983333  0.867647\n",
       "1  0.947368   0.957447  0.918367\n",
       "2  0.982456   1.000000  0.950000\n",
       "3  0.956140   0.900000  0.931034\n",
       "4  0.973451   0.896552  1.000000"
      ]
     },
     "execution_count": 139,
     "metadata": {},
     "output_type": "execute_result"
    }
   ],
   "source": [
    "import sklearn\n",
    "from sklearn.model_selection import KFold\n",
    "import numpy as np\n",
    "from sklearn.metrics import accuracy_score, precision_score, recall_score\n",
    "from sklearn.metrics import mean_absolute_error, mean_squared_error, r2_score\n",
    "\n",
    "from collections import defaultdict\n",
    "\n",
    "\n",
    "def cross_val(model, x, y, nr_folds=5):\n",
    "    folds = KFold(n_splits=nr_folds)\n",
    "    \n",
    "    scores_dict = defaultdict(list)\n",
    "\n",
    "    for i, (train_indices, test_indices) in enumerate(folds.split(x)):  \n",
    "        model = sklearn.base.clone(model)\n",
    "        \n",
    "        x_train, x_test = x[train_indices], x[test_indices]\n",
    "        y_train, y_test = y[train_indices], y[test_indices]\n",
    "\n",
    "        model.fit(x_train, y_train)\n",
    "\n",
    "        y_pred = model.predict(x_test)\n",
    "        \n",
    "        scores_dict['accuracy'].append(accuracy_score(y_test, y_pred))\n",
    "        scores_dict['precision'].append(precision_score(y_test, y_pred))\n",
    "        scores_dict['recall'].append(recall_score(y_test, y_pred))\n",
    "\n",
    "    return scores_dict\n",
    "\n",
    "cv = cross_val(model, x.values, y.replace({'B': 0, 'M': 1}).values)\n",
    "\n",
    "pd.DataFrame(cv)"
   ]
  },
  {
   "cell_type": "markdown",
   "metadata": {},
   "source": [
    "## Grid-Search\n",
    "TODO: Add examples with Optuna: https://github.com/optuna/optuna"
   ]
  },
  {
   "cell_type": "markdown",
   "metadata": {},
   "source": [
    "### One Model"
   ]
  },
  {
   "cell_type": "code",
   "execution_count": 142,
   "metadata": {},
   "outputs": [],
   "source": [
    "lable_column = 'diagnosis'\n",
    "x = df_clf_numeric.drop(lable_column, axis=1)\n",
    "y = df_clf_numeric[lable_column]"
   ]
  },
  {
   "cell_type": "markdown",
   "metadata": {},
   "source": [
    "#### XGBoost"
   ]
  },
  {
   "cell_type": "code",
   "execution_count": 150,
   "metadata": {},
   "outputs": [
    {
     "name": "stdout",
     "output_type": "stream",
     "text": [
      "Fitting 5 folds for each of 18 candidates, totalling 90 fits\n"
     ]
    },
    {
     "name": "stderr",
     "output_type": "stream",
     "text": [
      "[Parallel(n_jobs=1)]: Using backend SequentialBackend with 1 concurrent workers.\n",
      "[Parallel(n_jobs=1)]: Done  90 out of  90 | elapsed:    5.6s finished\n"
     ]
    }
   ],
   "source": [
    "from sklearn.model_selection import GridSearchCV\n",
    "import xgboost as xgb\n",
    "\n",
    "\n",
    "param_grid = {\n",
    "        #'min_child_weight': [1, 5, 10],\n",
    "        #'gamma': [0.5, 1.5, 4],\n",
    "        #'colsample_bytree': [0.6, 0.8, 1.0],\n",
    "        'max_depth': [5, 15, 50],\n",
    "        'learning_rate': [0.0001, 0.001, 0.01, 0.1, 0.2, 0.3]\n",
    "        }\n",
    "\n",
    "model_xgb = xgb.XGBClassifier(n_estimators=100, random_state=0, n_jobs=4)\n",
    "\n",
    "grid_search = GridSearchCV(model_xgb, param_grid, cv=5, scoring='roc_auc', verbose=1)\n",
    "grid_search = grid_search.fit(x, y)"
   ]
  },
  {
   "cell_type": "code",
   "execution_count": 152,
   "metadata": {},
   "outputs": [
    {
     "name": "stdout",
     "output_type": "stream",
     "text": [
      "best score: 0.9944761809444088\n",
      "best params: {'learning_rate': 0.3, 'max_depth': 5}\n"
     ]
    }
   ],
   "source": [
    "print('best score: {}\\nbest params: {}'.format(grid_search.best_score_, grid_search.best_params_))  "
   ]
  },
  {
   "cell_type": "code",
   "execution_count": 155,
   "metadata": {},
   "outputs": [
    {
     "data": {
      "text/html": [
       "<div>\n",
       "<style scoped>\n",
       "    .dataframe tbody tr th:only-of-type {\n",
       "        vertical-align: middle;\n",
       "    }\n",
       "\n",
       "    .dataframe tbody tr th {\n",
       "        vertical-align: top;\n",
       "    }\n",
       "\n",
       "    .dataframe thead th {\n",
       "        text-align: right;\n",
       "    }\n",
       "</style>\n",
       "<table border=\"1\" class=\"dataframe\">\n",
       "  <thead>\n",
       "    <tr style=\"text-align: right;\">\n",
       "      <th></th>\n",
       "      <th>mean_fit_time</th>\n",
       "      <th>std_fit_time</th>\n",
       "      <th>mean_score_time</th>\n",
       "      <th>std_score_time</th>\n",
       "      <th>param_learning_rate</th>\n",
       "      <th>param_max_depth</th>\n",
       "      <th>params</th>\n",
       "      <th>split0_test_score</th>\n",
       "      <th>split1_test_score</th>\n",
       "      <th>split2_test_score</th>\n",
       "      <th>split3_test_score</th>\n",
       "      <th>split4_test_score</th>\n",
       "      <th>mean_test_score</th>\n",
       "      <th>std_test_score</th>\n",
       "      <th>rank_test_score</th>\n",
       "    </tr>\n",
       "  </thead>\n",
       "  <tbody>\n",
       "    <tr>\n",
       "      <th>15</th>\n",
       "      <td>0.038398</td>\n",
       "      <td>0.001020</td>\n",
       "      <td>0.002402</td>\n",
       "      <td>4.893201e-04</td>\n",
       "      <td>0.3</td>\n",
       "      <td>5</td>\n",
       "      <td>{'learning_rate': 0.3, 'max_depth': 5}</td>\n",
       "      <td>0.994432</td>\n",
       "      <td>0.988536</td>\n",
       "      <td>1.0</td>\n",
       "      <td>0.989749</td>\n",
       "      <td>0.999665</td>\n",
       "      <td>0.994476</td>\n",
       "      <td>0.004797</td>\n",
       "      <td>1</td>\n",
       "    </tr>\n",
       "    <tr>\n",
       "      <th>17</th>\n",
       "      <td>0.040399</td>\n",
       "      <td>0.004079</td>\n",
       "      <td>0.002602</td>\n",
       "      <td>4.907804e-04</td>\n",
       "      <td>0.3</td>\n",
       "      <td>50</td>\n",
       "      <td>{'learning_rate': 0.3, 'max_depth': 50}</td>\n",
       "      <td>0.994432</td>\n",
       "      <td>0.984605</td>\n",
       "      <td>1.0</td>\n",
       "      <td>0.990741</td>\n",
       "      <td>0.999665</td>\n",
       "      <td>0.993888</td>\n",
       "      <td>0.005781</td>\n",
       "      <td>2</td>\n",
       "    </tr>\n",
       "    <tr>\n",
       "      <th>16</th>\n",
       "      <td>0.038598</td>\n",
       "      <td>0.001625</td>\n",
       "      <td>0.002001</td>\n",
       "      <td>3.873843e-07</td>\n",
       "      <td>0.3</td>\n",
       "      <td>15</td>\n",
       "      <td>{'learning_rate': 0.3, 'max_depth': 15}</td>\n",
       "      <td>0.994432</td>\n",
       "      <td>0.984605</td>\n",
       "      <td>1.0</td>\n",
       "      <td>0.990741</td>\n",
       "      <td>0.999665</td>\n",
       "      <td>0.993888</td>\n",
       "      <td>0.005781</td>\n",
       "      <td>2</td>\n",
       "    </tr>\n",
       "    <tr>\n",
       "      <th>12</th>\n",
       "      <td>0.043599</td>\n",
       "      <td>0.001624</td>\n",
       "      <td>0.002401</td>\n",
       "      <td>4.889867e-04</td>\n",
       "      <td>0.2</td>\n",
       "      <td>5</td>\n",
       "      <td>{'learning_rate': 0.2, 'max_depth': 5}</td>\n",
       "      <td>0.991811</td>\n",
       "      <td>0.986571</td>\n",
       "      <td>1.0</td>\n",
       "      <td>0.989087</td>\n",
       "      <td>0.998659</td>\n",
       "      <td>0.993226</td>\n",
       "      <td>0.005269</td>\n",
       "      <td>4</td>\n",
       "    </tr>\n",
       "    <tr>\n",
       "      <th>14</th>\n",
       "      <td>0.046798</td>\n",
       "      <td>0.002485</td>\n",
       "      <td>0.002602</td>\n",
       "      <td>8.002521e-04</td>\n",
       "      <td>0.2</td>\n",
       "      <td>50</td>\n",
       "      <td>{'learning_rate': 0.2, 'max_depth': 50}</td>\n",
       "      <td>0.991811</td>\n",
       "      <td>0.985588</td>\n",
       "      <td>1.0</td>\n",
       "      <td>0.989418</td>\n",
       "      <td>0.998659</td>\n",
       "      <td>0.993095</td>\n",
       "      <td>0.005480</td>\n",
       "      <td>5</td>\n",
       "    </tr>\n",
       "  </tbody>\n",
       "</table>\n",
       "</div>"
      ],
      "text/plain": [
       "    mean_fit_time  std_fit_time  mean_score_time  std_score_time  \\\n",
       "15       0.038398      0.001020         0.002402    4.893201e-04   \n",
       "17       0.040399      0.004079         0.002602    4.907804e-04   \n",
       "16       0.038598      0.001625         0.002001    3.873843e-07   \n",
       "12       0.043599      0.001624         0.002401    4.889867e-04   \n",
       "14       0.046798      0.002485         0.002602    8.002521e-04   \n",
       "\n",
       "   param_learning_rate param_max_depth  \\\n",
       "15                 0.3               5   \n",
       "17                 0.3              50   \n",
       "16                 0.3              15   \n",
       "12                 0.2               5   \n",
       "14                 0.2              50   \n",
       "\n",
       "                                     params  split0_test_score  \\\n",
       "15   {'learning_rate': 0.3, 'max_depth': 5}           0.994432   \n",
       "17  {'learning_rate': 0.3, 'max_depth': 50}           0.994432   \n",
       "16  {'learning_rate': 0.3, 'max_depth': 15}           0.994432   \n",
       "12   {'learning_rate': 0.2, 'max_depth': 5}           0.991811   \n",
       "14  {'learning_rate': 0.2, 'max_depth': 50}           0.991811   \n",
       "\n",
       "    split1_test_score  split2_test_score  split3_test_score  \\\n",
       "15           0.988536                1.0           0.989749   \n",
       "17           0.984605                1.0           0.990741   \n",
       "16           0.984605                1.0           0.990741   \n",
       "12           0.986571                1.0           0.989087   \n",
       "14           0.985588                1.0           0.989418   \n",
       "\n",
       "    split4_test_score  mean_test_score  std_test_score  rank_test_score  \n",
       "15           0.999665         0.994476        0.004797                1  \n",
       "17           0.999665         0.993888        0.005781                2  \n",
       "16           0.999665         0.993888        0.005781                2  \n",
       "12           0.998659         0.993226        0.005269                4  \n",
       "14           0.998659         0.993095        0.005480                5  "
      ]
     },
     "execution_count": 155,
     "metadata": {},
     "output_type": "execute_result"
    }
   ],
   "source": [
    "# Show top-k model configs\n",
    "df_results = pd.DataFrame(grid_search.cv_results_)\n",
    "df_results.sort_values(by='rank_test_score', inplace=True)\n",
    "df_results.head()"
   ]
  },
  {
   "cell_type": "code",
   "execution_count": 165,
   "metadata": {},
   "outputs": [
    {
     "data": {
      "text/plain": [
       "XGBClassifier(base_score=0.5, booster=None, colsample_bylevel=1,\n",
       "              colsample_bynode=1, colsample_bytree=1, gamma=0, gpu_id=-1,\n",
       "              importance_type='gain', interaction_constraints=None,\n",
       "              learning_rate=0.3, max_delta_step=0, max_depth=50,\n",
       "              min_child_weight=1, missing=nan, monotone_constraints=None,\n",
       "              n_estimators=100, n_jobs=4, num_parallel_tree=1,\n",
       "              objective='binary:logistic', random_state=0, reg_alpha=0,\n",
       "              reg_lambda=1, scale_pos_weight=1, subsample=1, tree_method=None,\n",
       "              validate_parameters=False, verbosity=None)"
      ]
     },
     "execution_count": 165,
     "metadata": {},
     "output_type": "execute_result"
    }
   ],
   "source": [
    "# Select one of the top-k models\n",
    "k = 2\n",
    "params_knd_best = df_results.iloc[k-1]['params']\n",
    "model_knd_best = grid_search.best_estimator_.set_params(**params_2nd_best)\n",
    "\n",
    "model_knd_best"
   ]
  },
  {
   "cell_type": "markdown",
   "metadata": {},
   "source": [
    "#### Random Forest"
   ]
  },
  {
   "cell_type": "code",
   "execution_count": 168,
   "metadata": {},
   "outputs": [
    {
     "name": "stdout",
     "output_type": "stream",
     "text": [
      "Fitting 5 folds for each of 18 candidates, totalling 90 fits\n"
     ]
    },
    {
     "name": "stderr",
     "output_type": "stream",
     "text": [
      "[Parallel(n_jobs=1)]: Using backend SequentialBackend with 1 concurrent workers.\n",
      "[Parallel(n_jobs=1)]: Done  90 out of  90 | elapsed:   11.3s finished\n"
     ]
    }
   ],
   "source": [
    "from sklearn.model_selection import GridSearchCV\n",
    "from sklearn.ensemble import RandomForestClassifier\n",
    "\n",
    "\n",
    "param_grid = { \n",
    "    'max_features': ['auto', 'sqrt', 'log2'],\n",
    "    'max_depth' : [5, 10, 15],\n",
    "    'criterion' :['gini', 'entropy']\n",
    "}\n",
    "\n",
    "model_rf = RandomForestClassifier(n_estimators=100, random_state=0, n_jobs=4)\n",
    "\n",
    "grid_search = GridSearchCV(model_rf, param_grid, cv=5, scoring='roc_auc', verbose=1)\n",
    "grid_search = grid_search.fit(x, y)"
   ]
  },
  {
   "cell_type": "code",
   "execution_count": 169,
   "metadata": {},
   "outputs": [
    {
     "name": "stdout",
     "output_type": "stream",
     "text": [
      "best score: 0.9920393809887751\n",
      "best params: {'criterion': 'entropy', 'max_depth': 10, 'max_features': 'auto'}\n"
     ]
    }
   ],
   "source": [
    "print('best score: {}\\nbest params: {}'.format(grid_search.best_score_, grid_search.best_params_))  "
   ]
  },
  {
   "cell_type": "markdown",
   "metadata": {},
   "source": [
    "\n",
    "You can also pass a list of dictionaries as param_grid, in which case the grids spanned by each dictionary in the list are explored. This enables searching over any sequence of parameter settings.\n",
    "\n",
    "This makes sense e.g. when some parameter configurations are not valid (e.g. 'sag' & 'l1' for LogisticRegression()):\n",
    "\n",
    "```python\n",
    "param_grid = [\n",
    "    {'classifier__penalty' : ['l1'],\n",
    "    'classifier__C' : np.logspace(-4, 4, 10),\n",
    "    'classifier__solver' : ['liblinear', 'saga']},\n",
    "    \n",
    "    {'classifier__penalty' : ['l2'],\n",
    "    'classifier__C' : np.logspace(-4, 4, 10),\n",
    "    'classifier__solver' : ['lbfgs', 'liblinear', 'sag', 'saga']}\n",
    "]\n",
    "```"
   ]
  },
  {
   "cell_type": "markdown",
   "metadata": {},
   "source": [
    "### Multiple Models"
   ]
  },
  {
   "cell_type": "code",
   "execution_count": 206,
   "metadata": {},
   "outputs": [],
   "source": [
    "from sklearn.neighbors import KNeighborsClassifier\n",
    "from sklearn.ensemble import RandomForestClassifier\n",
    "from sklearn.linear_model import LogisticRegression\n",
    "\n",
    "steps = [('classifier' , LogisticRegression())]\n",
    "pipeline = Pipeline(steps)"
   ]
  },
  {
   "cell_type": "code",
   "execution_count": 207,
   "metadata": {},
   "outputs": [],
   "source": [
    "param_grid = [    \n",
    "    {'classifier' : [LogisticRegression()],\n",
    "    'classifier__penalty' : ['l2'],\n",
    "    'classifier__C' : np.logspace(-4, 4, 10),\n",
    "    'classifier__solver' : ['lbfgs', 'liblinear', 'sag', 'saga']},\n",
    "    \n",
    "    {'classifier' : [RandomForestClassifier()],\n",
    "    'classifier__n_estimators' : list(range(50,101,10)),\n",
    "    'classifier__max_features' : ['auto', 'log2'],\n",
    "    'classifier__criterion' : ['gini', 'entropy'],\n",
    "    'classifier__oob_score' : [True, False]},\n",
    "\n",
    "    {'classifier' : [KNeighborsClassifier()],\n",
    "    'classifier_n_neighbors': np.arange(3, 15),\n",
    "    'classifier_weights': ['uniform', 'distance'],\n",
    "    'classifier_algorithm': ['ball_tree', 'kd_tree', 'brute']}\n",
    "]"
   ]
  },
  {
   "cell_type": "code",
   "execution_count": null,
   "metadata": {},
   "outputs": [],
   "source": [
    "x, y = make_classification(n_samples=100, n_features=15, n_redundant=0, n_informative=15, n_clusters_per_class=1,\n",
    "                           random_state=0, shuffle=False, n_classes=2)\n",
    "\n",
    "grid_search = GridSearchCV(pipeline, param_grid, cv=3, scoring='roc_auc', verbose=1)\n",
    "grid_search = grid_search.fit(x, y)"
   ]
  },
  {
   "cell_type": "markdown",
   "metadata": {},
   "source": [
    "### TF-IDF NLP Pipeline"
   ]
  },
  {
   "cell_type": "code",
   "execution_count": null,
   "metadata": {},
   "outputs": [
    {
     "name": "stdout",
     "output_type": "stream",
     "text": [
      "Fitting 3 folds for each of 288 candidates, totalling 864 fits\n"
     ]
    },
    {
     "name": "stderr",
     "output_type": "stream",
     "text": [
      "[Parallel(n_jobs=-1)]: Using backend LokyBackend with 4 concurrent workers.\n",
      "[Parallel(n_jobs=-1)]: Done  42 tasks      | elapsed:   12.2s\n",
      "[Parallel(n_jobs=-1)]: Done 192 tasks      | elapsed:   51.8s\n"
     ]
    }
   ],
   "source": [
    "from sklearn.ensemble import RandomForestClassifier\n",
    "from sklearn.pipeline import Pipeline\n",
    "from sklearn.model_selection import GridSearchCV\n",
    "from sklearn.feature_extraction.text import TfidfVectorizer\n",
    "\n",
    "# Gridsearch/CV with preprocessing\n",
    "pipe = Pipeline([('vectorizer', TfidfVectorizer()), ('classifier' , RandomForestClassifier())])\n",
    "\n",
    "param_grid = [\n",
    "    {'classifier__max_depth' : [5, 10, 15],\n",
    "    'classifier__criterion' : ['gini', 'entropy'],\n",
    "     \n",
    "    'vectorizer__sublinear_tf' : [True, False],\n",
    "    'vectorizer__ngram_range' : [(1, 1), (1, 2)],\n",
    "    'vectorizer__min_df' : [1, 2, 3],\n",
    "    'vectorizer__strip_accents' : ['unicode'],\n",
    "    'vectorizer__max_features' : [5000, 10000],\n",
    "    'vectorizer__stop_words' : [None, 'english']}\n",
    "]\n",
    "\n",
    "grid_search = GridSearchCV(pipe, param_grid = param_grid, cv = 3, verbose=True, scoring='accuracy', n_jobs=-1)\n",
    "grid_search = grid_search.fit(df_nlp['text'], df_nlp['airline_sentiment'].astype('category').cat.codes)\n",
    "\n",
    "print('best score: {}\\nbest params: {}'.format(best_clf.best_score_, best_clf.best_params_))"
   ]
  },
  {
   "cell_type": "markdown",
   "metadata": {},
   "source": [
    "## Evaluation"
   ]
  },
  {
   "cell_type": "markdown",
   "metadata": {},
   "source": [
    "### Confusion Matrix"
   ]
  },
  {
   "cell_type": "code",
   "execution_count": 191,
   "metadata": {},
   "outputs": [],
   "source": [
    "from sklearn.ensemble import RandomForestClassifier\n",
    "from sklearn.datasets import make_classification\n",
    "\n",
    "nr_classes = 5\n",
    "x, y = make_classification(n_samples=1000, n_features=15, n_redundant=0, n_informative=15, n_clusters_per_class=1,\n",
    "                           random_state=0, shuffle=False, n_classes=nr_classes)\n",
    "\n",
    "x_train, x_test, y_train, y_test = train_test_split(x, y, test_size=0.2, random_state=30, shuffle=True)\n",
    "\n",
    "model = RandomForestClassifier(max_depth=2, random_state=0)\n",
    "model = model.fit(x_train, y_train)\n",
    "\n",
    "y_pred = model.predict(x_test)"
   ]
  },
  {
   "cell_type": "code",
   "execution_count": 198,
   "metadata": {},
   "outputs": [
    {
     "data": {
      "text/plain": [
       "<matplotlib.axes._subplots.AxesSubplot at 0x1660efbac10>"
      ]
     },
     "execution_count": 198,
     "metadata": {},
     "output_type": "execute_result"
    },
    {
     "data": {
      "image/png": "[encoded data removed]",
      "text/plain": [
       "<Figure size 720x504 with 2 Axes>"
      ]
     },
     "metadata": {},
     "output_type": "display_data"
    }
   ],
   "source": [
    "from sklearn.metrics import confusion_matrix\n",
    "import matplotlib.pyplot as plt\n",
    "import seaborn as sns\n",
    "\n",
    "categories = np.unique(y_train)\n",
    "\n",
    "cm = confusion_matrix(y_test, y_pred, labels=categories, normalize='true')\n",
    "df_cm = pd.DataFrame(cm, columns=categories, index = categories)\n",
    "df_cm.index.name = 'Actual'\n",
    "df_cm.columns.name = 'Predicted'\n",
    "plt.figure(figsize = (10,7))\n",
    "sns.set(font_scale=1.4)#for label size\n",
    "sns.heatmap(df_cm, cmap=\"Blues\", annot=True, annot_kws={\"size\": 10})# font size"
   ]
  }
 ],
 "metadata": {
  "kernelspec": {
   "display_name": "Python [conda env:pandas-v1]",
   "language": "python",
   "name": "conda-env-pandas-v1-py"
  },
  "language_info": {
   "codemirror_mode": {
    "name": "ipython",
    "version": 3
   },
   "file_extension": ".py",
   "mimetype": "text/x-python",
   "name": "python",
   "nbconvert_exporter": "python",
   "pygments_lexer": "ipython3",
   "version": "3.8.1"
  }
 },
 "nbformat": 4,
 "nbformat_minor": 2
}
